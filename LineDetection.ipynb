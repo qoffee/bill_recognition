{
 "cells": [
  {
   "cell_type": "code",
   "execution_count": 1,
   "metadata": {
    "collapsed": true
   },
   "outputs": [],
   "source": [
    "import numpy as np\n",
    "import matplotlib as mpl\n",
    "import matplotlib.pyplot as plt\n",
    "import cv2\n",
    "%matplotlib inline\n",
    "from scipy.io import loadmat"
   ]
  },
  {
   "cell_type": "code",
   "execution_count": 15,
   "metadata": {},
   "outputs": [],
   "source": [
    "from keras.models import Model\n",
    "from keras.layers import Conv2D, Activation, Dropout, Input\n",
    "from keras.layers import GRU, MaxPool2D, BatchNormalization\n",
    "from keras.layers import GRUCell, Flatten\n",
    "\n",
    "from keras import regularizers\n",
    "\n",
    "dat = loadmat('./trainset.mat')"
   ]
  },
  {
   "cell_type": "code",
   "execution_count": 4,
   "metadata": {
    "collapsed": true
   },
   "outputs": [],
   "source": [
    "X = dat['X']\n",
    "Y = dat['Y']"
   ]
  },
  {
   "cell_type": "code",
   "execution_count": 5,
   "metadata": {
    "collapsed": true
   },
   "outputs": [],
   "source": [
    "X = X.reshape(-1,30,300,1)"
   ]
  },
  {
   "cell_type": "code",
   "execution_count": 40,
   "metadata": {},
   "outputs": [],
   "source": [
    "reg = regularizers.l2(0.01)\n",
    "inp = Input(shape=(30,300,1))\n",
    "x = Conv2D(8,3,padding='same',kernel_regularizer=reg)(inp)\n",
    "x = BatchNormalization()(x)\n",
    "x = Activation('relu')(x)\n",
    "x = MaxPool2D(pool_size=(1,2))(x)\n",
    "\n",
    "x = Dropout(0.2)(x)\n",
    "x = Conv2D(16,3,padding='same',kernel_regularizer=reg)(x)\n",
    "x = BatchNormalization()(x)\n",
    "x = Activation('relu')(x)\n",
    "x = MaxPool2D(pool_size=(1,3))(x)\n",
    "\n",
    "x = Dropout(0.2)(x)\n",
    "x = Conv2D(32,3,padding='same',kernel_regularizer=reg)(x)\n",
    "x = BatchNormalization()(x)\n",
    "x = Activation('relu')(x)\n",
    "x = MaxPool2D(pool_size=(1,5))(x)\n",
    "\n",
    "x = Conv2D(1,3,padding='same',kernel_regularizer=reg)(x)\n",
    "x = BatchNormalization()(x)\n",
    "x = Activation('relu')(x)\n",
    "x = MaxPool2D(pool_size=(1,10))(x)\n",
    "\n",
    "x = Flatten()(x)\n",
    "x = Activation('softmax')(x)"
   ]
  },
  {
   "cell_type": "code",
   "execution_count": 41,
   "metadata": {},
   "outputs": [
    {
     "name": "stdout",
     "output_type": "stream",
     "text": [
      "_________________________________________________________________\n",
      "Layer (type)                 Output Shape              Param #   \n",
      "=================================================================\n",
      "input_12 (InputLayer)        (None, 30, 300, 1)        0         \n",
      "_________________________________________________________________\n",
      "conv2d_50 (Conv2D)           (None, 30, 300, 8)        80        \n",
      "_________________________________________________________________\n",
      "batch_normalization_22 (Batc (None, 30, 300, 8)        32        \n",
      "_________________________________________________________________\n",
      "activation_33 (Activation)   (None, 30, 300, 8)        0         \n",
      "_________________________________________________________________\n",
      "max_pooling2d_36 (MaxPooling (None, 30, 150, 8)        0         \n",
      "_________________________________________________________________\n",
      "dropout_3 (Dropout)          (None, 30, 150, 8)        0         \n",
      "_________________________________________________________________\n",
      "conv2d_51 (Conv2D)           (None, 30, 150, 16)       1168      \n",
      "_________________________________________________________________\n",
      "batch_normalization_23 (Batc (None, 30, 150, 16)       64        \n",
      "_________________________________________________________________\n",
      "activation_34 (Activation)   (None, 30, 150, 16)       0         \n",
      "_________________________________________________________________\n",
      "max_pooling2d_37 (MaxPooling (None, 30, 50, 16)        0         \n",
      "_________________________________________________________________\n",
      "dropout_4 (Dropout)          (None, 30, 50, 16)        0         \n",
      "_________________________________________________________________\n",
      "conv2d_52 (Conv2D)           (None, 30, 50, 32)        4640      \n",
      "_________________________________________________________________\n",
      "batch_normalization_24 (Batc (None, 30, 50, 32)        128       \n",
      "_________________________________________________________________\n",
      "activation_35 (Activation)   (None, 30, 50, 32)        0         \n",
      "_________________________________________________________________\n",
      "max_pooling2d_38 (MaxPooling (None, 30, 10, 32)        0         \n",
      "_________________________________________________________________\n",
      "conv2d_53 (Conv2D)           (None, 30, 10, 1)         289       \n",
      "_________________________________________________________________\n",
      "batch_normalization_25 (Batc (None, 30, 10, 1)         4         \n",
      "_________________________________________________________________\n",
      "activation_36 (Activation)   (None, 30, 10, 1)         0         \n",
      "_________________________________________________________________\n",
      "max_pooling2d_39 (MaxPooling (None, 30, 1, 1)          0         \n",
      "_________________________________________________________________\n",
      "flatten_7 (Flatten)          (None, 30)                0         \n",
      "_________________________________________________________________\n",
      "activation_37 (Activation)   (None, 30)                0         \n",
      "=================================================================\n",
      "Total params: 6,405\n",
      "Trainable params: 6,291\n",
      "Non-trainable params: 114\n",
      "_________________________________________________________________\n"
     ]
    }
   ],
   "source": [
    "model = Model(inp,x)\n",
    "model.summary()"
   ]
  },
  {
   "cell_type": "code",
   "execution_count": 42,
   "metadata": {},
   "outputs": [],
   "source": [
    "model.compile(optimizer='Adam',loss='categorical_crossentropy')"
   ]
  },
  {
   "cell_type": "code",
   "execution_count": 45,
   "metadata": {
    "collapsed": true
   },
   "outputs": [],
   "source": [
    "from sklearn.model_selection import train_test_split\n",
    "\n",
    "Xt,Xv,Yt,Yv = train_test_split(X,Y[:,:,0],test_size=0.3)"
   ]
  },
  {
   "cell_type": "code",
   "execution_count": 49,
   "metadata": {},
   "outputs": [
    {
     "name": "stdout",
     "output_type": "stream",
     "text": [
      "Train on 877 samples, validate on 376 samples\n",
      "Epoch 1/10\n",
      "877/877 [==============================] - 20s 23ms/step - loss: 1.3833 - val_loss: 1.4437\n",
      "Epoch 2/10\n",
      "877/877 [==============================] - 21s 24ms/step - loss: 1.3667 - val_loss: 1.4409\n",
      "Epoch 3/10\n",
      "877/877 [==============================] - 19s 22ms/step - loss: 1.3424 - val_loss: 1.4845\n",
      "Epoch 4/10\n",
      "877/877 [==============================] - 19s 22ms/step - loss: 1.3288 - val_loss: 1.4382\n",
      "Epoch 5/10\n",
      "877/877 [==============================] - 19s 22ms/step - loss: 1.3302 - val_loss: 1.3614\n",
      "Epoch 6/10\n",
      "877/877 [==============================] - 19s 22ms/step - loss: 1.2959 - val_loss: 1.3204\n",
      "Epoch 7/10\n",
      "877/877 [==============================] - 20s 22ms/step - loss: 1.2893 - val_loss: 1.2751\n",
      "Epoch 8/10\n",
      "877/877 [==============================] - 20s 23ms/step - loss: 1.2538 - val_loss: 1.2933\n",
      "Epoch 9/10\n",
      "877/877 [==============================] - 19s 22ms/step - loss: 1.2822 - val_loss: 1.3284\n",
      "Epoch 10/10\n",
      "877/877 [==============================] - 19s 21ms/step - loss: 1.2642 - val_loss: 1.2919\n"
     ]
    },
    {
     "data": {
      "text/plain": [
       "<keras.callbacks.History at 0x7f284cc2ed30>"
      ]
     },
     "execution_count": 49,
     "metadata": {},
     "output_type": "execute_result"
    }
   ],
   "source": [
    "model.fit(Xt, Yt, validation_data=(Xv, Yv), batch_size=30, epochs=10)"
   ]
  },
  {
   "cell_type": "code",
   "execution_count": null,
   "metadata": {
    "collapsed": true
   },
   "outputs": [],
   "source": []
  }
 ],
 "metadata": {
  "kernelspec": {
   "display_name": "Python 3",
   "language": "python",
   "name": "python3"
  },
  "language_info": {
   "codemirror_mode": {
    "name": "ipython",
    "version": 3
   },
   "file_extension": ".py",
   "mimetype": "text/x-python",
   "name": "python",
   "nbconvert_exporter": "python",
   "pygments_lexer": "ipython3",
   "version": "3.6.3"
  }
 },
 "nbformat": 4,
 "nbformat_minor": 2
}
