{
 "cells": [
  {
   "cell_type": "code",
   "execution_count": null,
   "metadata": {
    "collapsed": true
   },
   "outputs": [],
   "source": [
    "import matplotlib.pyplot as plt\n",
    "import numpy as np\n",
    "import cv2\n",
    "%matplotlib inline\n",
    "import matplotlib\n",
    "matplotlib.rcParams['figure.figsize'] = [20,15]"
   ]
  },
  {
   "cell_type": "code",
   "execution_count": null,
   "metadata": {},
   "outputs": [],
   "source": [
    "from image_segmentation_functions import Segmenter"
   ]
  },
  {
   "cell_type": "code",
   "execution_count": null,
   "metadata": {
    "collapsed": true
   },
   "outputs": [],
   "source": [
    "bills = !ls ../bills_for_recognition/\n",
    "\n",
    "X = [cv2.imread('../bills_for_recognition/'+i)[:,:,::-1] for i in bills[:5]]"
   ]
  },
  {
   "cell_type": "code",
   "execution_count": null,
   "metadata": {},
   "outputs": [],
   "source": [
    "X[1].shape"
   ]
  },
  {
   "cell_type": "code",
   "execution_count": null,
   "metadata": {
    "collapsed": true
   },
   "outputs": [],
   "source": [
    "s = Segmenter()"
   ]
  },
  {
   "cell_type": "code",
   "execution_count": null,
   "metadata": {
    "collapsed": true
   },
   "outputs": [],
   "source": [
    "test_img = X[4]"
   ]
  },
  {
   "cell_type": "code",
   "execution_count": null,
   "metadata": {},
   "outputs": [],
   "source": [
    "res_dict = s.process_image(test_img, return_coord=True)"
   ]
  },
  {
   "cell_type": "code",
   "execution_count": null,
   "metadata": {
    "collapsed": true
   },
   "outputs": [],
   "source": [
    "res = res_dict['cropped']\n",
    "mask = res_dict['mask']"
   ]
  },
  {
   "cell_type": "code",
   "execution_count": null,
   "metadata": {},
   "outputs": [],
   "source": [
    "from matplotlib import patches"
   ]
  },
  {
   "cell_type": "code",
   "execution_count": null,
   "metadata": {
    "collapsed": true
   },
   "outputs": [],
   "source": [
    "import matplotlib as mpl"
   ]
  },
  {
   "cell_type": "code",
   "execution_count": null,
   "metadata": {},
   "outputs": [],
   "source": [
    "fig = plt.figure(figsize=(10,10))\n",
    "ax = fig.add_subplot(111)\n",
    "\n",
    "ax.imshow(res_dict['rotated'], cmap='Greys_r')\n",
    "center =(\n",
    "res_dict['center'][0] - res_dict['width'] / 2, #WTF 10\n",
    "res_dict['center'][1] - res_dict['heigth'] / 2\n",
    ")\n",
    "rect = patches.Rectangle(center,res_dict['width'],res_dict['heigth'], fill=False, color='r')\n",
    "\n",
    "x0,y0 = center\n",
    "\n",
    "dx = res_dict['width']\n",
    "dy = 0\n",
    "\n",
    "# for l in [ln/(res.shape[0] / res_dict['heigth']) for ln in lines]:\n",
    "#     ax.plot([x0,x0+dx],[y0+l,y0+dy+l],'r--',alpha=0.5)\n",
    "\n",
    "ax.add_patch(rect)"
   ]
  },
  {
   "cell_type": "code",
   "execution_count": null,
   "metadata": {
    "collapsed": true
   },
   "outputs": [],
   "source": [
    "from line_detection_functions import binarize, get_lines"
   ]
  },
  {
   "cell_type": "code",
   "execution_count": null,
   "metadata": {
    "scrolled": false
   },
   "outputs": [],
   "source": [
    "bin_ = binarize(res.astype('uint8'),\n",
    "                plot=True,\n",
    "                mask=cv2.erode(mask,\n",
    "                               np.ones((5, 5)),\n",
    "                               iterations=7\n",
    "                )\n",
    ")"
   ]
  },
  {
   "cell_type": "code",
   "execution_count": null,
   "metadata": {
    "collapsed": true
   },
   "outputs": [],
   "source": [
    "bin_ = (bin_>30).astype('uint8')*bin_"
   ]
  },
  {
   "cell_type": "code",
   "execution_count": null,
   "metadata": {},
   "outputs": [],
   "source": [
    "plt.imshow(\n",
    "    bin_,\n",
    "    cmap='Greys_r'\n",
    ")"
   ]
  },
  {
   "cell_type": "code",
   "execution_count": null,
   "metadata": {},
   "outputs": [],
   "source": [
    "lines = get_lines(bin_, return_coord=True)\n",
    "plt.imshow(res,\n",
    "           cmap='Greys_r')\n",
    "plt.hlines(lines,\n",
    "           0, 400,\n",
    "           colors='r',\n",
    "           linestyles='--')"
   ]
  },
  {
   "cell_type": "code",
   "execution_count": null,
   "metadata": {},
   "outputs": [],
   "source": [
    "plt.imshow(bin_,cmap='Greys_r')\n",
    "\n",
    "llines = get_lines(bin_[:,:150], return_coord=True)\n",
    "rlines = get_lines(bin_[:,150:], return_coord=True)\n",
    "\n",
    "plt.hlines(llines,\n",
    "           0 ,150,\n",
    "           colors='r',\n",
    "           linestyles='--')\n",
    "plt.hlines(rlines,\n",
    "           150 ,300,\n",
    "           colors='b',\n",
    "           linestyles='--')"
   ]
  },
  {
   "cell_type": "code",
   "execution_count": null,
   "metadata": {
    "collapsed": true
   },
   "outputs": [],
   "source": []
  }
 ],
 "metadata": {
  "kernelspec": {
   "display_name": "Python 3",
   "language": "python",
   "name": "python3"
  },
  "language_info": {
   "codemirror_mode": {
    "name": "ipython",
    "version": 3
   },
   "file_extension": ".py",
   "mimetype": "text/x-python",
   "name": "python",
   "nbconvert_exporter": "python",
   "pygments_lexer": "ipython3",
   "version": "3.6.3"
  }
 },
 "nbformat": 4,
 "nbformat_minor": 2
}
